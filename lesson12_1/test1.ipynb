{
 "cells": [
  {
   "cell_type": "code",
   "execution_count": 4,
   "metadata": {},
   "outputs": [],
   "source": [
    "stu1 = {\n",
    "    '姓名':'張維揚',\n",
    "    '國文':89,\n",
    "    '英文':75,\n",
    "    '數學':89,\n",
    "    '地理':92,\n",
    "    '歷史':77,\n",
    "    }\n",
    "\n",
    "stu2 = {\n",
    "    '姓名':'王虹捷',\n",
    "    '國文':88,\n",
    "    '英文':75,\n",
    "    '數學':89,\n",
    "    '地理':92,\n",
    "    '歷史':77,\n",
    "    }"
   ]
  },
  {
   "cell_type": "code",
   "execution_count": 5,
   "metadata": {},
   "outputs": [
    {
     "data": {
      "text/plain": [
       "[{'姓名': '張維揚', '國文': 89, '英文': 75, '數學': 89, '地理': 92, '歷史': 77},\n",
       " {'姓名': '王虹捷', '國文': 88, '英文': 75, '數學': 89, '地理': 92, '歷史': 77}]"
      ]
     },
     "execution_count": 5,
     "metadata": {},
     "output_type": "execute_result"
    }
   ],
   "source": [
    "student = [stu1,stu2]\n",
    "student"
   ]
  },
  {
   "cell_type": "code",
   "execution_count": 7,
   "metadata": {},
   "outputs": [
    {
     "data": {
      "text/plain": [
       "[{'姓名': '張韋成', '國文': 47, '英文': 97, '數學': 81, '地理': 67, '歷史': 60},\n",
       " {'姓名': '鍾俞禎', '國文': 95, '英文': 69, '數學': 77, '地理': 64, '歷史': 90},\n",
       " {'姓名': '景歡燦', '國文': 84, '英文': 62, '數學': 79, '地理': 95, '歷史': 67},\n",
       " {'姓名': '梁柏宇', '國文': 72, '英文': 72, '數學': 66, '地理': 58, '歷史': 96},\n",
       " {'姓名': '吳欣書', '國文': 99, '英文': 60, '數學': 47, '地理': 75, '歷史': 77},\n",
       " {'姓名': '郭淑真', '國文': 80, '英文': 57, '數學': 50, '地理': 66, '歷史': 70},\n",
       " {'姓名': '陳怡伶', '國文': 89, '英文': 72, '數學': 99, '地理': 74, '歷史': 53},\n",
       " {'姓名': '高士凱', '國文': 91, '英文': 82, '數學': 65, '地理': 99, '歷史': 79},\n",
       " {'姓名': '陳淑娟', '國文': 77, '英文': 71, '數學': 47, '地理': 56, '歷史': 54},\n",
       " {'姓名': '鞠冠宇', '國文': 92, '英文': 88, '數學': 63, '地理': 88, '歷史': 61}]"
      ]
     },
     "execution_count": 7,
     "metadata": {},
     "output_type": "execute_result"
    }
   ],
   "source": [
    "from random import randint,choices\n",
    "\n",
    "def getStudents(nums:int) -> list[dict]:\n",
    "    students:list[dict] = []\n",
    "    with open('names.txt',mode='r',encoding='utf-8') as file:\n",
    "        names:str = file.read()\n",
    "    nameList:list[str] = names.split('\\n')\n",
    "    names:list[str] = choices(nameList,k=nums)\n",
    "    for i in range(nums):\n",
    "        stu = {\n",
    "        '姓名':names[i],\n",
    "        '國文':randint(45,100),\n",
    "        '英文':randint(45,100),\n",
    "        '數學':randint(45,100),\n",
    "        '地理':randint(45,100),\n",
    "        '歷史':randint(45,100),\n",
    "        }\n",
    "        students.append(stu)\n",
    "    return students\n",
    "\n",
    "students = getStudents(10)\n",
    "students"
   ]
  },
  {
   "cell_type": "code",
   "execution_count": 10,
   "metadata": {},
   "outputs": [
    {
     "name": "stdout",
     "output_type": "stream",
     "text": [
      "請輸入學生的人數(1~50):10\n"
     ]
    },
    {
     "data": {
      "text/plain": [
       "[{'姓名': '林建勳', '國文': 97, '英文': 74, '數學': 83, '地理': 82, '歷史': 85},\n",
       " {'姓名': '黃婷婷', '國文': 53, '英文': 100, '數學': 99, '地理': 72, '歷史': 78},\n",
       " {'姓名': '張莉雯', '國文': 67, '英文': 56, '數學': 57, '地理': 51, '歷史': 64},\n",
       " {'姓名': '張明惟', '國文': 97, '英文': 77, '數學': 80, '地理': 54, '歷史': 97},\n",
       " {'姓名': '楊建安', '國文': 81, '英文': 53, '數學': 86, '地理': 88, '歷史': 51},\n",
       " {'姓名': '胡姿婷', '國文': 97, '英文': 71, '數學': 95, '地理': 55, '歷史': 72},\n",
       " {'姓名': '林冠蕙', '國文': 46, '英文': 64, '數學': 63, '地理': 74, '歷史': 75},\n",
       " {'姓名': '陳怡容', '國文': 62, '英文': 55, '數學': 49, '地理': 89, '歷史': 92},\n",
       " {'姓名': '蕭怡伶', '國文': 84, '英文': 77, '數學': 81, '地理': 78, '歷史': 69},\n",
       " {'姓名': '楊韋廷', '國文': 45, '英文': 63, '數學': 53, '地理': 93, '歷史': 76}]"
      ]
     },
     "execution_count": 10,
     "metadata": {},
     "output_type": "execute_result"
    }
   ],
   "source": [
    "import pyinputplus as pyip\n",
    "s_nums:int = pyip.inputInt(\"請輸入學生的人數(1~50):\",min=1,max=50)\n",
    "print(s_nums)\n",
    "students = getStudents(s_nums)\n",
    "students"
   ]
  },
  {
   "cell_type": "code",
   "execution_count": 19,
   "metadata": {},
   "outputs": [
    {
     "name": "stdout",
     "output_type": "stream",
     "text": [
      "寫入成功\n"
     ]
    }
   ],
   "source": [
    "import csv\n",
    "from csv import DictWriter\n",
    "\n",
    "def save_to_csv(students:list[dict],fileName:str)->None:\n",
    "    fileNameWithExtension:str = fileName + '.csv'\n",
    "    with open(fileNameWithExtension,mode='w',encoding='utf-8',newline='') as file:\n",
    "        fieldnames:list[str] = ['姓名','國文','英文','數學','地理','歷史']\n",
    "        writer:DictWriter = csv.DictWriter(file,fieldnames=fieldnames)\n",
    "        writer.writeheader()\n",
    "        writer.writerows(students)\n",
    "    print('寫入成功')\n",
    "\n",
    "save_to_csv(students,'class2')"
   ]
  },
  {
   "cell_type": "code",
   "execution_count": 20,
   "metadata": {},
   "outputs": [
    {
     "name": "stdout",
     "output_type": "stream",
     "text": [
      "請輸入檔案名稱(不用輸入副檔名稱):寫入成功\n"
     ]
    }
   ],
   "source": [
    "fileName = pyip.inputFilename(\"請輸入檔案名稱(不用輸入副檔名稱):\")\n",
    "save_to_csv(students,fileName)"
   ]
  }
 ],
 "metadata": {
  "kernelspec": {
   "display_name": "Python 3",
   "language": "python",
   "name": "python3"
  },
  "language_info": {
   "codemirror_mode": {
    "name": "ipython",
    "version": 3
   },
   "file_extension": ".py",
   "mimetype": "text/x-python",
   "name": "python",
   "nbconvert_exporter": "python",
   "pygments_lexer": "ipython3",
   "version": "3.10.13"
  }
 },
 "nbformat": 4,
 "nbformat_minor": 2
}
