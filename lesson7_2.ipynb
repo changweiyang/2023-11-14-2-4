{
 "cells": [
  {
   "cell_type": "code",
   "execution_count": 1,
   "metadata": {},
   "outputs": [
    {
     "name": "stdout",
     "output_type": "stream",
     "text": [
      "==========猜數字遊戲============\n",
      "猜數字範圍1~100:84\n",
      "再大一點\n",
      "您已經猜了1次\n",
      "=================\n",
      "猜數字範圍85~100:90\n",
      "再大一點\n",
      "您已經猜了2次\n",
      "=================\n",
      "猜數字範圍91~100:95\n",
      "再大一點\n",
      "您已經猜了3次\n",
      "=================\n",
      "猜數字範圍96~100:98\n",
      "再小一點\n",
      "您已經猜了4次\n",
      "=================\n",
      "猜數字範圍96~97:97\n",
      "賓果!猜對了,答案是:97\n",
      "您猜了5次\n",
      "遊戲結束\n"
     ]
    }
   ],
   "source": [
    "import pyinputplus as pyip\n",
    "import random\n",
    "\n",
    "min = 1\n",
    "max = 100\n",
    "count = 0\n",
    "random_number = random.randint(min,max)\n",
    "print(\"==========猜數字遊戲============\")\n",
    "while True:\n",
    "    keyin = pyip.inputInt(f\"猜數字範圍{min}~{max}:\")\n",
    "    count += 1\n",
    "    print(keyin)\n",
    "    if keyin == random_number:\n",
    "        print(f\"賓果!猜對了,答案是:{random_number}\")\n",
    "        print(f\"您猜了{count}次\")\n",
    "        break\n",
    "    elif keyin > random_number:\n",
    "        print(\"再小一點\")\n",
    "        max = keyin - 1\n",
    "    elif keyin < random_number:\n",
    "        print(\"再大一點\")\n",
    "        min = keyin + 1\n",
    "    print(f\"您已經猜了{count}次\")\n",
    "    print(\"=================\")\n",
    "        \n",
    "\n",
    "print(\"遊戲結束\")"
   ]
  }
 ],
 "metadata": {
  "kernelspec": {
   "display_name": "Python 3",
   "language": "python",
   "name": "python3"
  },
  "language_info": {
   "codemirror_mode": {
    "name": "ipython",
    "version": 3
   },
   "file_extension": ".py",
   "mimetype": "text/x-python",
   "name": "python",
   "nbconvert_exporter": "python",
   "pygments_lexer": "ipython3",
   "version": "3.10.13"
  }
 },
 "nbformat": 4,
 "nbformat_minor": 2
}
